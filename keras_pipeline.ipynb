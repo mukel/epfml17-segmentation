{
 "cells": [
  {
   "cell_type": "code",
   "execution_count": 13,
   "metadata": {
    "collapsed": true
   },
   "outputs": [],
   "source": [
    "%matplotlib inline\n",
    "import itertools\n",
    "import numpy as np\n",
    "import matplotlib.pyplot as plt\n",
    "\n",
    "import keras\n",
    "from keras import losses\n",
    "from keras.datasets import mnist\n",
    "from keras.models import Sequential, model_from_json\n",
    "\n",
    "from keras.layers import Dense, Dropout, Flatten, Reshape, Conv2D, MaxPooling2D, LeakyReLU\n",
    "from keras import backend as K\n",
    "from keras.optimizers import Adam\n",
    "\n",
    "#from keras.utils.training_utils import multi_gpu_model\n",
    "\n",
    "from helpers import *"
   ]
  },
  {
   "cell_type": "code",
   "execution_count": 3,
   "metadata": {},
   "outputs": [
    {
     "name": "stdout",
     "output_type": "stream",
     "text": [
      "2.0.9\n",
      "[name: \"/cpu:0\"\n",
      "device_type: \"CPU\"\n",
      "memory_limit: 268435456\n",
      "locality {\n",
      "}\n",
      "incarnation: 17942444580097936080\n",
      ", name: \"/gpu:0\"\n",
      "device_type: \"GPU\"\n",
      "memory_limit: 355729408\n",
      "locality {\n",
      "  bus_id: 1\n",
      "}\n",
      "incarnation: 200314842381896196\n",
      "physical_device_desc: \"device: 0, name: Tesla K80, pci bus id: 0000:00:17.0\"\n",
      ", name: \"/gpu:1\"\n",
      "device_type: \"GPU\"\n",
      "memory_limit: 355729408\n",
      "locality {\n",
      "  bus_id: 1\n",
      "}\n",
      "incarnation: 3773727828731387387\n",
      "physical_device_desc: \"device: 1, name: Tesla K80, pci bus id: 0000:00:18.0\"\n",
      ", name: \"/gpu:2\"\n",
      "device_type: \"GPU\"\n",
      "memory_limit: 355729408\n",
      "locality {\n",
      "  bus_id: 1\n",
      "}\n",
      "incarnation: 4396736140880381404\n",
      "physical_device_desc: \"device: 2, name: Tesla K80, pci bus id: 0000:00:19.0\"\n",
      ", name: \"/gpu:3\"\n",
      "device_type: \"GPU\"\n",
      "memory_limit: 357695488\n",
      "locality {\n",
      "  bus_id: 1\n",
      "}\n",
      "incarnation: 16603126585749387079\n",
      "physical_device_desc: \"device: 3, name: Tesla K80, pci bus id: 0000:00:1a.0\"\n",
      ", name: \"/gpu:4\"\n",
      "device_type: \"GPU\"\n",
      "memory_limit: 357695488\n",
      "locality {\n",
      "  bus_id: 1\n",
      "}\n",
      "incarnation: 18072041151991096132\n",
      "physical_device_desc: \"device: 4, name: Tesla K80, pci bus id: 0000:00:1b.0\"\n",
      ", name: \"/gpu:5\"\n",
      "device_type: \"GPU\"\n",
      "memory_limit: 357695488\n",
      "locality {\n",
      "  bus_id: 1\n",
      "}\n",
      "incarnation: 15291573469123486095\n",
      "physical_device_desc: \"device: 5, name: Tesla K80, pci bus id: 0000:00:1c.0\"\n",
      ", name: \"/gpu:6\"\n",
      "device_type: \"GPU\"\n",
      "memory_limit: 359792640\n",
      "locality {\n",
      "  bus_id: 1\n",
      "}\n",
      "incarnation: 2970061455735088155\n",
      "physical_device_desc: \"device: 6, name: Tesla K80, pci bus id: 0000:00:1d.0\"\n",
      ", name: \"/gpu:7\"\n",
      "device_type: \"GPU\"\n",
      "memory_limit: 359792640\n",
      "locality {\n",
      "  bus_id: 1\n",
      "}\n",
      "incarnation: 12395703634580828654\n",
      "physical_device_desc: \"device: 7, name: Tesla K80, pci bus id: 0000:00:1e.0\"\n",
      "]\n"
     ]
    }
   ],
   "source": [
    "print(keras.__version__)\n",
    "from tensorflow.python.client import device_lib\n",
    "print(device_lib.list_local_devices())"
   ]
  },
  {
   "cell_type": "code",
   "execution_count": 14,
   "metadata": {},
   "outputs": [
    {
     "name": "stdout",
     "output_type": "stream",
     "text": [
      "Loading 100 training images\n",
      "Loading 100 groundtruth images\n",
      "Image size = (400, 400, 3)\n"
     ]
    }
   ],
   "source": [
    "imgs, gt_imgs = training_dataset(limit=100)\n",
    "print('Image size =', imgs[0].shape)"
   ]
  },
  {
   "cell_type": "code",
   "execution_count": 16,
   "metadata": {
    "collapsed": true
   },
   "outputs": [],
   "source": [
    "patch_size = 16 # each patch is 16*16 pixels"
   ]
  },
  {
   "cell_type": "code",
   "execution_count": 11,
   "metadata": {},
   "outputs": [
    {
     "name": "stdout",
     "output_type": "stream",
     "text": [
      "(500000, 80, 80, 3)\n",
      "(500000, 1)\n"
     ]
    }
   ],
   "source": [
    "train_data = [\n",
    "    (patch, gt_patch)\n",
    "    for i in range(len(imgs))\n",
    "    for patch, gt_patch initertools.islice(gen_random_patches(reflect_border(imgs[i], patch_size, 2),\n",
    "                                                              reflect_border(gt_imgs[i], patch_size, 2), i), 25*25*8)]\n",
    "\n",
    "\n",
    "X = np.asarray([img for img, _ in train_data])\n",
    "y = np.asarray([value_to_class(gt_patch) for _, gt_patch in train_data]).reshape((-1, 1))\n",
    "\n",
    "print(X.shape)\n",
    "print(y.shape)"
   ]
  },
  {
   "cell_type": "code",
   "execution_count": 19,
   "metadata": {
    "collapsed": true
   },
   "outputs": [],
   "source": [
    "# Model parameters\n",
    "\n",
    "batch_size = 64 * 8\n",
    "num_filters_1 = 16\n",
    "num_filters_2 = 32\n",
    "num_filters_3 = 64\n",
    "num_filters_4 = 128\n",
    "\n",
    "epochs = 50"
   ]
  },
  {
   "cell_type": "code",
   "execution_count": 31,
   "metadata": {
    "collapsed": true
   },
   "outputs": [],
   "source": [
    "def build_model(gpus=0):\n",
    "    model = Sequential()\n",
    "    model.add(Conv2D(num_filters_1, kernel_size=(4, 4), input_shape=(80, 80, 3)))\n",
    "    model.add(LeakyReLU(alpha=0.1))\n",
    "    model.add(MaxPooling2D(pool_size=(2,2)))\n",
    "    model.add(Dropout(0.25))\n",
    "    model.add(Conv2D(num_filters_2, kernel_size=(4,4)))\n",
    "    model.add(LeakyReLU(alpha=0.1))\n",
    "    model.add(MaxPooling2D(pool_size=(2,2)))\n",
    "    model.add(Dropout(0.25))\n",
    "    model.add(Conv2D(num_filters_3, kernel_size=(4,4)))\n",
    "    model.add(LeakyReLU(alpha=0.1))\n",
    "    model.add(MaxPooling2D(pool_size=(2,2)))\n",
    "    model.add(Dropout(0.25))\n",
    "    model.add(Conv2D(num_filters_4, kernel_size=(4,4)))\n",
    "    model.add(LeakyReLU(alpha=0.1))\n",
    "    model.add(MaxPooling2D(pool_size=(2,2)))\n",
    "    model.add(Dropout(0.25))\n",
    "    model.add(Flatten())\n",
    "    model.add(Dense(1, activation='sigmoid'))\n",
    "\n",
    "    simple_model = model\n",
    "    if gpus > 1:\n",
    "        model = multi_gpu_model(simple_model, gpus=gpus)\n",
    "\n",
    "    model.compile(loss='binary_crossentropy',\n",
    "              optimizer=Adam(lr=1e-3),\n",
    "              metrics=['accuracy'])\n",
    "    \n",
    "    return (model, simple_model)"
   ]
  },
  {
   "cell_type": "code",
   "execution_count": 32,
   "metadata": {},
   "outputs": [
    {
     "name": "stdout",
     "output_type": "stream",
     "text": [
      "_________________________________________________________________\n",
      "Layer (type)                 Output Shape              Param #   \n",
      "=================================================================\n",
      "conv2d_17 (Conv2D)           (None, 77, 77, 16)        784       \n",
      "_________________________________________________________________\n",
      "leaky_re_lu_17 (LeakyReLU)   (None, 77, 77, 16)        0         \n",
      "_________________________________________________________________\n",
      "max_pooling2d_17 (MaxPooling (None, 38, 38, 16)        0         \n",
      "_________________________________________________________________\n",
      "dropout_17 (Dropout)         (None, 38, 38, 16)        0         \n",
      "_________________________________________________________________\n",
      "conv2d_18 (Conv2D)           (None, 35, 35, 32)        8224      \n",
      "_________________________________________________________________\n",
      "leaky_re_lu_18 (LeakyReLU)   (None, 35, 35, 32)        0         \n",
      "_________________________________________________________________\n",
      "max_pooling2d_18 (MaxPooling (None, 17, 17, 32)        0         \n",
      "_________________________________________________________________\n",
      "dropout_18 (Dropout)         (None, 17, 17, 32)        0         \n",
      "_________________________________________________________________\n",
      "conv2d_19 (Conv2D)           (None, 14, 14, 64)        32832     \n",
      "_________________________________________________________________\n",
      "leaky_re_lu_19 (LeakyReLU)   (None, 14, 14, 64)        0         \n",
      "_________________________________________________________________\n",
      "max_pooling2d_19 (MaxPooling (None, 7, 7, 64)          0         \n",
      "_________________________________________________________________\n",
      "dropout_19 (Dropout)         (None, 7, 7, 64)          0         \n",
      "_________________________________________________________________\n",
      "conv2d_20 (Conv2D)           (None, 4, 4, 128)         131200    \n",
      "_________________________________________________________________\n",
      "leaky_re_lu_20 (LeakyReLU)   (None, 4, 4, 128)         0         \n",
      "_________________________________________________________________\n",
      "max_pooling2d_20 (MaxPooling (None, 2, 2, 128)         0         \n",
      "_________________________________________________________________\n",
      "dropout_20 (Dropout)         (None, 2, 2, 128)         0         \n",
      "_________________________________________________________________\n",
      "flatten_5 (Flatten)          (None, 512)               0         \n",
      "_________________________________________________________________\n",
      "dense_5 (Dense)              (None, 1)                 513       \n",
      "=================================================================\n",
      "Total params: 173,553\n",
      "Trainable params: 173,553\n",
      "Non-trainable params: 0\n",
      "_________________________________________________________________\n"
     ]
    }
   ],
   "source": [
    "model, simple_model = build_model(0)\n",
    "model.summary()"
   ]
  },
  {
   "cell_type": "code",
   "execution_count": 88,
   "metadata": {},
   "outputs": [
    {
     "name": "stdout",
     "output_type": "stream",
     "text": [
      "Epoch 1/50\n",
      "500000/500000 [==============================] - 78s 157us/step - loss: 0.3397 - acc: 0.8431\n",
      "Epoch 2/50\n",
      "500000/500000 [==============================] - 79s 159us/step - loss: 0.1942 - acc: 0.9201\n",
      "Epoch 3/50\n",
      "500000/500000 [==============================] - 78s 155us/step - loss: 0.1604 - acc: 0.9351\n",
      "Epoch 4/50\n",
      "500000/500000 [==============================] - 78s 156us/step - loss: 0.1404 - acc: 0.9437\n",
      "Epoch 5/50\n",
      "500000/500000 [==============================] - 78s 155us/step - loss: 0.1271 - acc: 0.9498\n",
      "Epoch 6/50\n",
      "500000/500000 [==============================] - 78s 155us/step - loss: 0.1191 - acc: 0.9531\n",
      "Epoch 7/50\n",
      "500000/500000 [==============================] - 77s 155us/step - loss: 0.1121 - acc: 0.9559\n",
      "Epoch 8/50\n",
      "500000/500000 [==============================] - 77s 154us/step - loss: 0.1059 - acc: 0.9583\n",
      "Epoch 9/50\n",
      "500000/500000 [==============================] - 77s 155us/step - loss: 0.1022 - acc: 0.9598\n",
      "Epoch 10/50\n",
      "500000/500000 [==============================] - 78s 155us/step - loss: 0.0989 - acc: 0.9613\n",
      "Epoch 11/50\n",
      "500000/500000 [==============================] - 77s 154us/step - loss: 0.0952 - acc: 0.9629\n",
      "Epoch 12/50\n",
      "500000/500000 [==============================] - 77s 155us/step - loss: 0.0930 - acc: 0.9636\n",
      "Epoch 13/50\n",
      "500000/500000 [==============================] - 78s 155us/step - loss: 0.0916 - acc: 0.9645\n",
      "Epoch 14/50\n",
      "500000/500000 [==============================] - 77s 154us/step - loss: 0.0891 - acc: 0.9650\n",
      "Epoch 15/50\n",
      "500000/500000 [==============================] - 78s 155us/step - loss: 0.0877 - acc: 0.9659\n",
      "Epoch 16/50\n",
      "500000/500000 [==============================] - 78s 156us/step - loss: 0.0863 - acc: 0.9665\n",
      "Epoch 17/50\n",
      "500000/500000 [==============================] - 77s 155us/step - loss: 0.0854 - acc: 0.9669\n",
      "Epoch 18/50\n",
      "500000/500000 [==============================] - 77s 155us/step - loss: 0.0838 - acc: 0.9674\n",
      "Epoch 19/50\n",
      "500000/500000 [==============================] - 77s 154us/step - loss: 0.0829 - acc: 0.9676\n",
      "Epoch 20/50\n",
      "500000/500000 [==============================] - 78s 155us/step - loss: 0.0815 - acc: 0.9685\n",
      "Epoch 21/50\n",
      "500000/500000 [==============================] - 77s 155us/step - loss: 0.0799 - acc: 0.9690\n",
      "Epoch 22/50\n",
      "500000/500000 [==============================] - 78s 155us/step - loss: 0.0796 - acc: 0.9693\n",
      "Epoch 23/50\n",
      "500000/500000 [==============================] - 78s 155us/step - loss: 0.0783 - acc: 0.9699\n",
      "Epoch 24/50\n",
      "500000/500000 [==============================] - 77s 154us/step - loss: 0.0776 - acc: 0.9699\n",
      "Epoch 25/50\n",
      "500000/500000 [==============================] - 77s 155us/step - loss: 0.0772 - acc: 0.9701\n",
      "Epoch 26/50\n",
      "500000/500000 [==============================] - 77s 155us/step - loss: 0.0768 - acc: 0.9702\n",
      "Epoch 27/50\n",
      "500000/500000 [==============================] - 77s 154us/step - loss: 0.0762 - acc: 0.9703\n",
      "Epoch 28/50\n",
      "500000/500000 [==============================] - 76s 153us/step - loss: 0.0754 - acc: 0.9707\n",
      "Epoch 29/50\n",
      "500000/500000 [==============================] - 77s 154us/step - loss: 0.0750 - acc: 0.9709\n",
      "Epoch 30/50\n",
      "500000/500000 [==============================] - 77s 154us/step - loss: 0.0743 - acc: 0.9712\n",
      "Epoch 31/50\n",
      "500000/500000 [==============================] - 78s 155us/step - loss: 0.0734 - acc: 0.9715\n",
      "Epoch 32/50\n",
      "500000/500000 [==============================] - 77s 154us/step - loss: 0.0737 - acc: 0.9714\n",
      "Epoch 33/50\n",
      "500000/500000 [==============================] - 77s 155us/step - loss: 0.0724 - acc: 0.9720\n",
      "Epoch 34/50\n",
      "500000/500000 [==============================] - 77s 154us/step - loss: 0.0720 - acc: 0.9719\n",
      "Epoch 35/50\n",
      "500000/500000 [==============================] - 77s 154us/step - loss: 0.0708 - acc: 0.9725\n",
      "Epoch 36/50\n",
      "500000/500000 [==============================] - 77s 154us/step - loss: 0.0714 - acc: 0.9722\n",
      "Epoch 37/50\n",
      "500000/500000 [==============================] - 77s 154us/step - loss: 0.0708 - acc: 0.9725\n",
      "Epoch 38/50\n",
      "500000/500000 [==============================] - 78s 156us/step - loss: 0.0702 - acc: 0.9727\n",
      "Epoch 39/50\n",
      "500000/500000 [==============================] - 77s 154us/step - loss: 0.0706 - acc: 0.9726\n",
      "Epoch 40/50\n",
      "500000/500000 [==============================] - 77s 154us/step - loss: 0.0701 - acc: 0.9729\n",
      "Epoch 41/50\n",
      "500000/500000 [==============================] - 77s 155us/step - loss: 0.0703 - acc: 0.9730\n",
      "Epoch 42/50\n",
      "500000/500000 [==============================] - 77s 154us/step - loss: 0.0690 - acc: 0.9733\n",
      "Epoch 43/50\n",
      "500000/500000 [==============================] - 76s 153us/step - loss: 0.0689 - acc: 0.9734\n",
      "Epoch 44/50\n",
      "500000/500000 [==============================] - 77s 155us/step - loss: 0.0684 - acc: 0.9736\n",
      "Epoch 45/50\n",
      "500000/500000 [==============================] - 77s 154us/step - loss: 0.0683 - acc: 0.9735\n",
      "Epoch 46/50\n",
      "500000/500000 [==============================] - 76s 152us/step - loss: 0.0673 - acc: 0.9741\n",
      "Epoch 47/50\n",
      "500000/500000 [==============================] - 77s 154us/step - loss: 0.0677 - acc: 0.9737\n",
      "Epoch 48/50\n",
      "500000/500000 [==============================] - 77s 154us/step - loss: 0.0679 - acc: 0.9738\n",
      "Epoch 49/50\n",
      "500000/500000 [==============================] - 77s 154us/step - loss: 0.0671 - acc: 0.9742\n",
      "Epoch 50/50\n",
      "500000/500000 [==============================] - 77s 154us/step - loss: 0.0669 - acc: 0.9742\n"
     ]
    },
    {
     "data": {
      "text/plain": [
       "<keras.callbacks.History at 0x7fa31f651438>"
      ]
     },
     "execution_count": 88,
     "metadata": {},
     "output_type": "execute_result"
    }
   ],
   "source": [
    "model.fit(X, y,\n",
    "          batch_size=batch_size,\n",
    "          epochs=epochs,\n",
    "          verbose=1,\n",
    "          shuffle=True)"
   ]
  },
  {
   "cell_type": "code",
   "execution_count": 30,
   "metadata": {
    "collapsed": true
   },
   "outputs": [],
   "source": [
    "# save the model and the weights to files\n",
    "model_json = simple_model.to_json()\n",
    "with open('savedModels/model_18', 'w') as f:\n",
    "    f.write(model_json)\n",
    "\n",
    "simple_model.save_weights('savedModels/weights_18')"
   ]
  },
  {
   "cell_type": "code",
   "execution_count": null,
   "metadata": {
    "collapsed": true
   },
   "outputs": [],
   "source": []
  }
 ],
 "metadata": {
  "kernelspec": {
   "display_name": "Python 3",
   "language": "python",
   "name": "python3"
  },
  "language_info": {
   "codemirror_mode": {
    "name": "ipython",
    "version": 3
   },
   "file_extension": ".py",
   "mimetype": "text/x-python",
   "name": "python",
   "nbconvert_exporter": "python",
   "pygments_lexer": "ipython3",
   "version": "3.6.2"
  }
 },
 "nbformat": 4,
 "nbformat_minor": 1
}
