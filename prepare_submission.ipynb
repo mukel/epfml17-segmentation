{
 "cells": [
  {
   "cell_type": "code",
   "execution_count": 1,
   "metadata": {},
   "outputs": [
    {
     "name": "stderr",
     "output_type": "stream",
     "text": [
      "Using TensorFlow backend.\n"
     ]
    }
   ],
   "source": [
    "%matplotlib inline\n",
    "import numpy as np\n",
    "import os,sys\n",
    "import re\n",
    "\n",
    "from keras.layers import Dense, Dropout, Flatten, Reshape, Conv2D, MaxPooling2D, LeakyReLU\n",
    "from keras import backend as K\n",
    "from keras.optimizers import Adam\n",
    "\n",
    "from keras.models import model_from_json\n",
    "\n",
    "from helpers import *"
   ]
  },
  {
   "cell_type": "code",
   "execution_count": 6,
   "metadata": {
    "collapsed": true
   },
   "outputs": [],
   "source": [
    "# Helper variables and functions for the submission\n",
    "foreground_threshold = 0.5 # percentage of pixels > 1 required to assign a foreground label to a patch\n",
    "patch_size = 16\n",
    "\n",
    "def pred_print(img, img_patches):\n",
    "    pred = [\n",
    "        np.round((np.median(model.predict(np.asarray(image_trans(patch))))))\n",
    "        for patch in img_patches\n",
    "    ]\n",
    "    pred = np.asarray(pred)\n",
    "    disp_img_pred(img, pred, patch_size)\n",
    "    return pred\n",
    "\n",
    "\n",
    "# Creates submission file using a trained model and given images\n",
    "def submission_with_model(model, submissionfilename):\n",
    "\n",
    "    root_dir = \"data/test_set_images/\"\n",
    "\n",
    "    # Get filenames and images for all the 50 submission images\n",
    "    image_dir = [root_dir + \"test_{}/\".format(i) for i in range(1, 51)]\n",
    "    filenames = [fn for imdir in image_dir for fn in os.listdir(imdir)]\n",
    "    images = [load_image(image_dir[i-1] + filenames[i-1]) for i in range(1, 51)]\n",
    "\n",
    "    # Reflect borders\n",
    "    im_borders = [reflect_border(im, patch_size, 2) for im in images]\n",
    "    \n",
    "    # Get 16x16 patches of the images\n",
    "    imgs_patched = [image_to_inputs(im, patch_size) for im in im_borders]\n",
    "    \n",
    "    # Use model to predict, predictions are labels in a list of labels per image\n",
    "    predictions = []\n",
    "    for i in range(1,51):\n",
    "        predictions.append(pred_print(images[i-1], np.asarray(imgs_patched[i-1])))\n",
    "    \n",
    "    with open(submissionfilename, 'w') as f:\n",
    "        f.write('id,prediction\\n')\n",
    "        for nr in range(1, 51):\n",
    "            f.writelines(\n",
    "                '{}\\n'.format(s)\n",
    "                for s in img_to_submission_strings(predictions[nr-1],\n",
    "                                                   nr,\n",
    "                                                   images[nr-1].shape[1],\n",
    "                                                   images[nr-1].shape[0],\n",
    "                                                   patch_size))"
   ]
  },
  {
   "cell_type": "code",
   "execution_count": 7,
   "metadata": {},
   "outputs": [],
   "source": [
    "# load the model from data\n",
    "path = 'savedModels/'\n",
    "fm = open(path + 'model_18')\n",
    "model = model_from_json(fm.read())\n",
    "fm.close()\n",
    "\n",
    "model.load_weights(path + 'weights_18', by_name=False)\n",
    "\n",
    "model.compile(loss='binary_crossentropy',\n",
    "              optimizer=Adam(lr=1e-3),#'rmsprop',\n",
    "              metrics=['accuracy'])\n"
   ]
  },
  {
   "cell_type": "code",
   "execution_count": 8,
   "metadata": {},
   "outputs": [
    {
     "name": "stdout",
     "output_type": "stream",
     "text": [
      "_________________________________________________________________\n",
      "Layer (type)                 Output Shape              Param #   \n",
      "=================================================================\n",
      "conv2d_29 (Conv2D)           (None, 77, 77, 16)        784       \n",
      "_________________________________________________________________\n",
      "leaky_re_lu_29 (LeakyReLU)   (None, 77, 77, 16)        0         \n",
      "_________________________________________________________________\n",
      "max_pooling2d_29 (MaxPooling (None, 38, 38, 16)        0         \n",
      "_________________________________________________________________\n",
      "dropout_29 (Dropout)         (None, 38, 38, 16)        0         \n",
      "_________________________________________________________________\n",
      "conv2d_30 (Conv2D)           (None, 35, 35, 32)        8224      \n",
      "_________________________________________________________________\n",
      "leaky_re_lu_30 (LeakyReLU)   (None, 35, 35, 32)        0         \n",
      "_________________________________________________________________\n",
      "max_pooling2d_30 (MaxPooling (None, 17, 17, 32)        0         \n",
      "_________________________________________________________________\n",
      "dropout_30 (Dropout)         (None, 17, 17, 32)        0         \n",
      "_________________________________________________________________\n",
      "conv2d_31 (Conv2D)           (None, 14, 14, 64)        32832     \n",
      "_________________________________________________________________\n",
      "leaky_re_lu_31 (LeakyReLU)   (None, 14, 14, 64)        0         \n",
      "_________________________________________________________________\n",
      "max_pooling2d_31 (MaxPooling (None, 7, 7, 64)          0         \n",
      "_________________________________________________________________\n",
      "dropout_31 (Dropout)         (None, 7, 7, 64)          0         \n",
      "_________________________________________________________________\n",
      "conv2d_32 (Conv2D)           (None, 4, 4, 128)         131200    \n",
      "_________________________________________________________________\n",
      "leaky_re_lu_32 (LeakyReLU)   (None, 4, 4, 128)         0         \n",
      "_________________________________________________________________\n",
      "max_pooling2d_32 (MaxPooling (None, 2, 2, 128)         0         \n",
      "_________________________________________________________________\n",
      "dropout_32 (Dropout)         (None, 2, 2, 128)         0         \n",
      "_________________________________________________________________\n",
      "flatten_8 (Flatten)          (None, 512)               0         \n",
      "_________________________________________________________________\n",
      "dense_8 (Dense)              (None, 1)                 513       \n",
      "=================================================================\n",
      "Total params: 173,553\n",
      "Trainable params: 173,553\n",
      "Non-trainable params: 0\n",
      "_________________________________________________________________\n"
     ]
    }
   ],
   "source": [
    "model.summary()"
   ]
  },
  {
   "cell_type": "code",
   "execution_count": null,
   "metadata": {
    "scrolled": true
   },
   "outputs": [],
   "source": [
    "# Use the model to predict and create the submission file.\n",
    "submission_with_model(model, 'submission_test.csv')"
   ]
  }
 ],
 "metadata": {
  "kernelspec": {
   "display_name": "Python 3",
   "language": "python",
   "name": "python3"
  },
  "language_info": {
   "codemirror_mode": {
    "name": "ipython",
    "version": 3
   },
   "file_extension": ".py",
   "mimetype": "text/x-python",
   "name": "python",
   "nbconvert_exporter": "python",
   "pygments_lexer": "ipython3",
   "version": "3.6.2"
  }
 },
 "nbformat": 4,
 "nbformat_minor": 2
}
